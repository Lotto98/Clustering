{
 "cells": [
  {
   "cell_type": "code",
   "execution_count": 9,
   "metadata": {},
   "outputs": [],
   "source": [
    "from sklearn.cluster import MeanShift\n",
    "import numpy as np\n",
    "import pandas as pd\n",
    "\n",
    "from sklearn.base import BaseEstimator\n",
    "\n",
    "from sklearn.model_selection import GridSearchCV\n",
    "\n",
    "from IPython.display import clear_output\n",
    "\n",
    "from typing import Tuple\n",
    "\n",
    "import pyarrow as pa\n",
    "import pyarrow.parquet as pq"
   ]
  },
  {
   "cell_type": "code",
   "execution_count": 15,
   "metadata": {},
   "outputs": [],
   "source": [
    "pca_2 = pq.read_pandas('dataset/PCA_2.parquet').to_pandas()\n",
    "y = pq.read_pandas('dataset/y.parquet').to_pandas().squeeze()"
   ]
  },
  {
   "cell_type": "code",
   "execution_count": 11,
   "metadata": {},
   "outputs": [],
   "source": [
    "estimator=MeanShift(n_jobs=-1)"
   ]
  },
  {
   "cell_type": "code",
   "execution_count": 16,
   "metadata": {},
   "outputs": [
    {
     "name": "stdout",
     "output_type": "stream",
     "text": [
      "Fitting 2 folds for each of 1 candidates, totalling 2 fits\n",
      "[CV 1/2] END .......................bandwidth=2;, score=0.526 total time= 4.0min\n"
     ]
    }
   ],
   "source": [
    "def model_selector( model:BaseEstimator, properties:dict, X:pd.DataFrame, y:pd.DataFrame, n_jobs:int = 1 ) -> Tuple[BaseEstimator,pd.DataFrame] :\n",
    "    \n",
    "    clf=GridSearchCV(model,properties,scoring=\"rand_score\",cv=2,verbose=5,n_jobs=n_jobs)\n",
    "    \n",
    "    clf.fit(X,y)\n",
    "    \n",
    "    clear_output(wait=True)\n",
    "    \n",
    "    result=pd.DataFrame(clf.cv_results_)\n",
    "    \n",
    "    print (\"Best Score: \", clf.best_score_)\n",
    "    print (\"Best Params: \", clf.best_params_)\n",
    "    \n",
    "    return clf.best_estimator_,result\n",
    "\n",
    "Best_estimator,best_results=model_selector(estimator,{'bandwidth':[2]},pca_2,y)"
   ]
  },
  {
   "cell_type": "code",
   "execution_count": null,
   "metadata": {},
   "outputs": [
    {
     "data": {
      "text/plain": [
       "array([0])"
      ]
     },
     "execution_count": 20,
     "metadata": {},
     "output_type": "execute_result"
    }
   ],
   "source": [
    "np.unique(clustering.labels_)"
   ]
  }
 ],
 "metadata": {
  "kernelspec": {
   "display_name": "Python 3",
   "language": "python",
   "name": "python3"
  },
  "language_info": {
   "codemirror_mode": {
    "name": "ipython",
    "version": 3
   },
   "file_extension": ".py",
   "mimetype": "text/x-python",
   "name": "python",
   "nbconvert_exporter": "python",
   "pygments_lexer": "ipython3",
   "version": "3.10.6"
  },
  "orig_nbformat": 4,
  "vscode": {
   "interpreter": {
    "hash": "916dbcbb3f70747c44a77c7bcd40155683ae19c65e1c03b4aa3499c5328201f1"
   }
  }
 },
 "nbformat": 4,
 "nbformat_minor": 2
}
