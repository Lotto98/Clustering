{
 "cells": [
  {
   "cell_type": "code",
   "execution_count": 2,
   "metadata": {},
   "outputs": [],
   "source": [
    "from sklearn.cluster import MeanShift\n",
    "import numpy as np\n",
    "import pandas as pd\n",
    "\n",
    "from sklearn.base import ClusterMixin\n",
    "\n",
    "from sklearn.metrics.cluster import rand_score\n",
    "\n",
    "from typing import List"
   ]
  },
  {
   "cell_type": "code",
   "execution_count": 3,
   "metadata": {},
   "outputs": [],
   "source": [
    "pca_10 = pd.read_parquet('dataset/PCA_10.parquet')\n",
    "y = pd.read_parquet('dataset/y.parquet').squeeze()"
   ]
  },
  {
   "cell_type": "code",
   "execution_count": 4,
   "metadata": {},
   "outputs": [],
   "source": [
    "estimator=MeanShift(n_jobs=-1)"
   ]
  },
  {
   "cell_type": "code",
   "execution_count": 5,
   "metadata": {},
   "outputs": [
    {
     "data": {
      "application/vnd.jupyter.widget-view+json": {
       "model_id": "252df70743054c2eacd8140d63b51450",
       "version_major": 2,
       "version_minor": 0
      },
      "text/plain": [
       "  0%|          | 0/2 [00:00<?, ?it/s]"
      ]
     },
     "metadata": {},
     "output_type": "display_data"
    }
   ],
   "source": [
    "from tqdm.notebook import tqdm\n",
    "\n",
    "def foo( model:ClusterMixin, hyperparameter_name:str, hyperparameter_values:List[int], X:pd.DataFrame, y:pd.Series) -> pd.DataFrame :\n",
    "    \n",
    "    result=[]\n",
    "\n",
    "    for x in tqdm(hyperparameter_values):\n",
    "        \n",
    "        model.set_params(**{hyperparameter_name:x})\n",
    "    \n",
    "        cluster_labels=model.fit_predict(X)\n",
    "\n",
    "        score=rand_score(y,cluster_labels)\n",
    "        \n",
    "        result.append([x,score])\n",
    "        \n",
    "    return pd.DataFrame(result,columns=[hyperparameter_name,'rand index'])\n",
    "                \n",
    "result=foo(estimator,'bandwidth',[2,3],pca_10,y)"
   ]
  },
  {
   "cell_type": "code",
   "execution_count": 9,
   "metadata": {},
   "outputs": [],
   "source": [
    "result.to_parquet(\"dataset/result_1.parquet\")"
   ]
  }
 ],
 "metadata": {
  "kernelspec": {
   "display_name": "Python 3",
   "language": "python",
   "name": "python3"
  },
  "language_info": {
   "codemirror_mode": {
    "name": "ipython",
    "version": 3
   },
   "file_extension": ".py",
   "mimetype": "text/x-python",
   "name": "python",
   "nbconvert_exporter": "python",
   "pygments_lexer": "ipython3",
   "version": "3.10.6"
  },
  "orig_nbformat": 4,
  "vscode": {
   "interpreter": {
    "hash": "916dbcbb3f70747c44a77c7bcd40155683ae19c65e1c03b4aa3499c5328201f1"
   }
  }
 },
 "nbformat": 4,
 "nbformat_minor": 2
}
